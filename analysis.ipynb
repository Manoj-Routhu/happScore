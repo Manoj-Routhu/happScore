{
 "cells": [
  {
   "cell_type": "code",
   "execution_count": 71,
   "id": "1196057a",
   "metadata": {},
   "outputs": [
    {
     "name": "stdout",
     "output_type": "stream",
     "text": [
      "          country  adjusted_satisfaction  avg_satisfaction  std_satisfaction  \\\n",
      "0         Armenia                   37.0               4.9              2.42   \n",
      "1          Angola                   26.0               4.3              3.19   \n",
      "2       Argentina                   60.0               7.1              1.91   \n",
      "3         Austria                   59.0               7.2              2.11   \n",
      "4       Australia                   65.0               7.6              1.80   \n",
      "..            ...                    ...               ...               ...   \n",
      "106       Uruguay                   58.0               7.0              2.13   \n",
      "107       Vietnam                   53.0               6.1              1.77   \n",
      "108  South Africa                   49.0               6.3              2.47   \n",
      "109        Zambia                   37.0               5.0              2.61   \n",
      "110      Zimbabwe                   33.0               4.1              2.16   \n",
      "\n",
      "     avg_income  median_income  income_inequality  \\\n",
      "0       2096.76    1731.506667          31.445556   \n",
      "1       1448.88    1044.240000          42.720000   \n",
      "2       7101.12    5109.400000          45.475556   \n",
      "3      19457.04   16879.620000          30.296250   \n",
      "4      19917.00   15846.060000          35.285000   \n",
      "..          ...            ...                ...   \n",
      "106     7544.40    5269.226667          45.014444   \n",
      "107     2231.40    1643.580000          39.242500   \n",
      "108     3889.32    1506.400000          63.726667   \n",
      "109      956.76     510.060000          55.120000   \n",
      "110     1768.56    1230.600000          43.150000   \n",
      "\n",
      "                            region  happyScore      GDP     country.1  \n",
      "0     'Central and Eastern Europe'       4.350  0.76821       Armenia  \n",
      "1             'Sub-Saharan Africa'       4.033  0.75778        Angola  \n",
      "2    'Latin America and Caribbean'       6.574  1.05351     Argentina  \n",
      "3                 'Western Europe'       7.200  1.33723       Austria  \n",
      "4      'Australia and New Zealand'       7.284  1.33358     Australia  \n",
      "..                             ...         ...      ...           ...  \n",
      "106  'Latin America and Caribbean'       6.485  1.06166       Uruguay  \n",
      "107            'Southeastern Asia'       5.360  0.63216       Vietnam  \n",
      "108           'Sub-Saharan Africa'       4.642  0.92049  South Africa  \n",
      "109           'Sub-Saharan Africa'       5.129  0.47038        Zambia  \n",
      "110           'Sub-Saharan Africa'       4.610  0.27100      Zimbabwe  \n",
      "\n",
      "[111 rows x 11 columns]\n"
     ]
    }
   ],
   "source": [
    "import pandas as pd\n",
    "import os\n",
    "os.chdir(\"C:\\\\Users\\\\admin\\\\Desktop\\\\code\")\n",
    "first = pd.read_csv(\"projeect -2.csv\")\n",
    "\n",
    "print(first)"
   ]
  },
  {
   "cell_type": "code",
   "execution_count": 72,
   "id": "84c28572",
   "metadata": {},
   "outputs": [
    {
     "data": {
      "text/plain": [
       "26182.275"
      ]
     },
     "execution_count": 72,
     "metadata": {},
     "output_type": "execute_result"
    }
   ],
   "source": [
    "happy = first['happyScore']\n",
    "income = first['avg_income']\n",
    "ineq = first['income_inequality']\n",
    "income.max()"
   ]
  },
  {
   "cell_type": "code",
   "execution_count": 73,
   "id": "76c0af40",
   "metadata": {},
   "outputs": [
    {
     "data": {
      "text/html": [
       "<div>\n",
       "<style scoped>\n",
       "    .dataframe tbody tr th:only-of-type {\n",
       "        vertical-align: middle;\n",
       "    }\n",
       "\n",
       "    .dataframe tbody tr th {\n",
       "        vertical-align: top;\n",
       "    }\n",
       "\n",
       "    .dataframe thead th {\n",
       "        text-align: right;\n",
       "    }\n",
       "</style>\n",
       "<table border=\"1\" class=\"dataframe\">\n",
       "  <thead>\n",
       "    <tr style=\"text-align: right;\">\n",
       "      <th></th>\n",
       "      <th>country</th>\n",
       "      <th>adjusted_satisfaction</th>\n",
       "      <th>avg_satisfaction</th>\n",
       "      <th>std_satisfaction</th>\n",
       "      <th>avg_income</th>\n",
       "      <th>median_income</th>\n",
       "      <th>income_inequality</th>\n",
       "      <th>region</th>\n",
       "      <th>happyScore</th>\n",
       "      <th>GDP</th>\n",
       "      <th>country.1</th>\n",
       "    </tr>\n",
       "  </thead>\n",
       "  <tbody>\n",
       "    <tr>\n",
       "      <th>10</th>\n",
       "      <td>Burundi</td>\n",
       "      <td>25.0</td>\n",
       "      <td>2.9</td>\n",
       "      <td>1.96</td>\n",
       "      <td>572.880</td>\n",
       "      <td>436.92</td>\n",
       "      <td>33.360000</td>\n",
       "      <td>'Sub-Saharan Africa'</td>\n",
       "      <td>2.905</td>\n",
       "      <td>0.01530</td>\n",
       "      <td>Burundi</td>\n",
       "    </tr>\n",
       "    <tr>\n",
       "      <th>65</th>\n",
       "      <td>Madagascar</td>\n",
       "      <td>33.0</td>\n",
       "      <td>3.7</td>\n",
       "      <td>1.86</td>\n",
       "      <td>574.200</td>\n",
       "      <td>415.48</td>\n",
       "      <td>40.720000</td>\n",
       "      <td>'Sub-Saharan Africa'</td>\n",
       "      <td>3.681</td>\n",
       "      <td>0.20824</td>\n",
       "      <td>Madagascar</td>\n",
       "    </tr>\n",
       "    <tr>\n",
       "      <th>58</th>\n",
       "      <td>Liberia</td>\n",
       "      <td>37.0</td>\n",
       "      <td>4.4</td>\n",
       "      <td>2.02</td>\n",
       "      <td>653.040</td>\n",
       "      <td>528.72</td>\n",
       "      <td>36.480000</td>\n",
       "      <td>'Sub-Saharan Africa'</td>\n",
       "      <td>4.571</td>\n",
       "      <td>0.07120</td>\n",
       "      <td>Liberia</td>\n",
       "    </tr>\n",
       "    <tr>\n",
       "      <th>72</th>\n",
       "      <td>Mozambique</td>\n",
       "      <td>34.0</td>\n",
       "      <td>3.8</td>\n",
       "      <td>1.76</td>\n",
       "      <td>714.720</td>\n",
       "      <td>488.52</td>\n",
       "      <td>45.580000</td>\n",
       "      <td>'Sub-Saharan Africa'</td>\n",
       "      <td>4.971</td>\n",
       "      <td>0.08308</td>\n",
       "      <td>Mozambique</td>\n",
       "    </tr>\n",
       "    <tr>\n",
       "      <th>73</th>\n",
       "      <td>Niger</td>\n",
       "      <td>34.0</td>\n",
       "      <td>3.8</td>\n",
       "      <td>1.75</td>\n",
       "      <td>718.400</td>\n",
       "      <td>535.56</td>\n",
       "      <td>37.726667</td>\n",
       "      <td>'Sub-Saharan Africa'</td>\n",
       "      <td>3.845</td>\n",
       "      <td>0.06940</td>\n",
       "      <td>Niger</td>\n",
       "    </tr>\n",
       "    <tr>\n",
       "      <th>...</th>\n",
       "      <td>...</td>\n",
       "      <td>...</td>\n",
       "      <td>...</td>\n",
       "      <td>...</td>\n",
       "      <td>...</td>\n",
       "      <td>...</td>\n",
       "      <td>...</td>\n",
       "      <td>...</td>\n",
       "      <td>...</td>\n",
       "      <td>...</td>\n",
       "      <td>...</td>\n",
       "    </tr>\n",
       "    <tr>\n",
       "      <th>16</th>\n",
       "      <td>Canada</td>\n",
       "      <td>69.0</td>\n",
       "      <td>8.0</td>\n",
       "      <td>1.71</td>\n",
       "      <td>20190.780</td>\n",
       "      <td>16829.10</td>\n",
       "      <td>33.790000</td>\n",
       "      <td>'North America'</td>\n",
       "      <td>7.427</td>\n",
       "      <td>1.32629</td>\n",
       "      <td>Canada</td>\n",
       "    </tr>\n",
       "    <tr>\n",
       "      <th>77</th>\n",
       "      <td>Norway</td>\n",
       "      <td>70.0</td>\n",
       "      <td>8.0</td>\n",
       "      <td>1.62</td>\n",
       "      <td>21877.710</td>\n",
       "      <td>19477.62</td>\n",
       "      <td>27.307500</td>\n",
       "      <td>'Western Europe'</td>\n",
       "      <td>7.522</td>\n",
       "      <td>1.45900</td>\n",
       "      <td>Norway</td>\n",
       "    </tr>\n",
       "    <tr>\n",
       "      <th>105</th>\n",
       "      <td>United States</td>\n",
       "      <td>62.0</td>\n",
       "      <td>7.3</td>\n",
       "      <td>1.92</td>\n",
       "      <td>23127.000</td>\n",
       "      <td>17925.36</td>\n",
       "      <td>41.090000</td>\n",
       "      <td>'North America'</td>\n",
       "      <td>7.119</td>\n",
       "      <td>1.39451</td>\n",
       "      <td>United States</td>\n",
       "    </tr>\n",
       "    <tr>\n",
       "      <th>17</th>\n",
       "      <td>Switzerland</td>\n",
       "      <td>70.0</td>\n",
       "      <td>8.0</td>\n",
       "      <td>1.62</td>\n",
       "      <td>23400.040</td>\n",
       "      <td>19442.92</td>\n",
       "      <td>32.930000</td>\n",
       "      <td>'Western Europe'</td>\n",
       "      <td>7.587</td>\n",
       "      <td>1.39651</td>\n",
       "      <td>Switzerland</td>\n",
       "    </tr>\n",
       "    <tr>\n",
       "      <th>61</th>\n",
       "      <td>Luxembourg</td>\n",
       "      <td>66.0</td>\n",
       "      <td>7.7</td>\n",
       "      <td>1.76</td>\n",
       "      <td>26182.275</td>\n",
       "      <td>22240.23</td>\n",
       "      <td>31.950000</td>\n",
       "      <td>'Western Europe'</td>\n",
       "      <td>6.946</td>\n",
       "      <td>1.56391</td>\n",
       "      <td>Luxembourg</td>\n",
       "    </tr>\n",
       "  </tbody>\n",
       "</table>\n",
       "<p>111 rows × 11 columns</p>\n",
       "</div>"
      ],
      "text/plain": [
       "           country  adjusted_satisfaction  avg_satisfaction  std_satisfaction  \\\n",
       "10         Burundi                   25.0               2.9              1.96   \n",
       "65      Madagascar                   33.0               3.7              1.86   \n",
       "58         Liberia                   37.0               4.4              2.02   \n",
       "72      Mozambique                   34.0               3.8              1.76   \n",
       "73           Niger                   34.0               3.8              1.75   \n",
       "..             ...                    ...               ...               ...   \n",
       "16          Canada                   69.0               8.0              1.71   \n",
       "77          Norway                   70.0               8.0              1.62   \n",
       "105  United States                   62.0               7.3              1.92   \n",
       "17     Switzerland                   70.0               8.0              1.62   \n",
       "61      Luxembourg                   66.0               7.7              1.76   \n",
       "\n",
       "     avg_income  median_income  income_inequality                region  \\\n",
       "10      572.880         436.92          33.360000  'Sub-Saharan Africa'   \n",
       "65      574.200         415.48          40.720000  'Sub-Saharan Africa'   \n",
       "58      653.040         528.72          36.480000  'Sub-Saharan Africa'   \n",
       "72      714.720         488.52          45.580000  'Sub-Saharan Africa'   \n",
       "73      718.400         535.56          37.726667  'Sub-Saharan Africa'   \n",
       "..          ...            ...                ...                   ...   \n",
       "16    20190.780       16829.10          33.790000       'North America'   \n",
       "77    21877.710       19477.62          27.307500      'Western Europe'   \n",
       "105   23127.000       17925.36          41.090000       'North America'   \n",
       "17    23400.040       19442.92          32.930000      'Western Europe'   \n",
       "61    26182.275       22240.23          31.950000      'Western Europe'   \n",
       "\n",
       "     happyScore      GDP      country.1  \n",
       "10        2.905  0.01530        Burundi  \n",
       "65        3.681  0.20824     Madagascar  \n",
       "58        4.571  0.07120        Liberia  \n",
       "72        4.971  0.08308     Mozambique  \n",
       "73        3.845  0.06940          Niger  \n",
       "..          ...      ...            ...  \n",
       "16        7.427  1.32629         Canada  \n",
       "77        7.522  1.45900         Norway  \n",
       "105       7.119  1.39451  United States  \n",
       "17        7.587  1.39651    Switzerland  \n",
       "61        6.946  1.56391     Luxembourg  \n",
       "\n",
       "[111 rows x 11 columns]"
      ]
     },
     "execution_count": 73,
     "metadata": {},
     "output_type": "execute_result"
    }
   ],
   "source": [
    "first.sort_values('avg_income', inplace=True)\n",
    "first"
   ]
  },
  {
   "cell_type": "code",
   "execution_count": 74,
   "id": "210bb063",
   "metadata": {},
   "outputs": [
    {
     "data": {
      "text/html": [
       "<div>\n",
       "<style scoped>\n",
       "    .dataframe tbody tr th:only-of-type {\n",
       "        vertical-align: middle;\n",
       "    }\n",
       "\n",
       "    .dataframe tbody tr th {\n",
       "        vertical-align: top;\n",
       "    }\n",
       "\n",
       "    .dataframe thead th {\n",
       "        text-align: right;\n",
       "    }\n",
       "</style>\n",
       "<table border=\"1\" class=\"dataframe\">\n",
       "  <thead>\n",
       "    <tr style=\"text-align: right;\">\n",
       "      <th></th>\n",
       "      <th>country</th>\n",
       "      <th>adjusted_satisfaction</th>\n",
       "      <th>avg_satisfaction</th>\n",
       "      <th>std_satisfaction</th>\n",
       "      <th>avg_income</th>\n",
       "      <th>median_income</th>\n",
       "      <th>income_inequality</th>\n",
       "      <th>region</th>\n",
       "      <th>happyScore</th>\n",
       "      <th>GDP</th>\n",
       "      <th>country.1</th>\n",
       "    </tr>\n",
       "  </thead>\n",
       "  <tbody>\n",
       "    <tr>\n",
       "      <th>49</th>\n",
       "      <td>Italy</td>\n",
       "      <td>57.0</td>\n",
       "      <td>6.6</td>\n",
       "      <td>1.81</td>\n",
       "      <td>15437.595</td>\n",
       "      <td>13163.070</td>\n",
       "      <td>34.12625</td>\n",
       "      <td>'Western Europe'</td>\n",
       "      <td>5.948</td>\n",
       "      <td>1.25114</td>\n",
       "      <td>Italy</td>\n",
       "    </tr>\n",
       "    <tr>\n",
       "      <th>44</th>\n",
       "      <td>Ireland</td>\n",
       "      <td>64.0</td>\n",
       "      <td>7.5</td>\n",
       "      <td>1.85</td>\n",
       "      <td>16657.770</td>\n",
       "      <td>13823.160</td>\n",
       "      <td>32.41875</td>\n",
       "      <td>'Western Europe'</td>\n",
       "      <td>6.940</td>\n",
       "      <td>1.33596</td>\n",
       "      <td>Ireland</td>\n",
       "    </tr>\n",
       "    <tr>\n",
       "      <th>90</th>\n",
       "      <td>Sweden</td>\n",
       "      <td>67.0</td>\n",
       "      <td>7.8</td>\n",
       "      <td>1.72</td>\n",
       "      <td>17032.755</td>\n",
       "      <td>15166.605</td>\n",
       "      <td>26.95000</td>\n",
       "      <td>'Western Europe'</td>\n",
       "      <td>7.364</td>\n",
       "      <td>1.33171</td>\n",
       "      <td>Sweden</td>\n",
       "    </tr>\n",
       "    <tr>\n",
       "      <th>36</th>\n",
       "      <td>United Kingdom</td>\n",
       "      <td>60.0</td>\n",
       "      <td>7.1</td>\n",
       "      <td>1.98</td>\n",
       "      <td>17099.550</td>\n",
       "      <td>14172.735</td>\n",
       "      <td>34.43250</td>\n",
       "      <td>'Western Europe'</td>\n",
       "      <td>6.867</td>\n",
       "      <td>1.26637</td>\n",
       "      <td>United Kingdom</td>\n",
       "    </tr>\n",
       "    <tr>\n",
       "      <th>7</th>\n",
       "      <td>Belgium</td>\n",
       "      <td>63.0</td>\n",
       "      <td>7.2</td>\n",
       "      <td>1.72</td>\n",
       "      <td>17168.505</td>\n",
       "      <td>15166.455</td>\n",
       "      <td>28.74500</td>\n",
       "      <td>'Western Europe'</td>\n",
       "      <td>6.937</td>\n",
       "      <td>1.30782</td>\n",
       "      <td>Belgium</td>\n",
       "    </tr>\n",
       "  </tbody>\n",
       "</table>\n",
       "</div>"
      ],
      "text/plain": [
       "           country  adjusted_satisfaction  avg_satisfaction  std_satisfaction  \\\n",
       "49           Italy                   57.0               6.6              1.81   \n",
       "44         Ireland                   64.0               7.5              1.85   \n",
       "90          Sweden                   67.0               7.8              1.72   \n",
       "36  United Kingdom                   60.0               7.1              1.98   \n",
       "7          Belgium                   63.0               7.2              1.72   \n",
       "\n",
       "    avg_income  median_income  income_inequality            region  \\\n",
       "49   15437.595      13163.070           34.12625  'Western Europe'   \n",
       "44   16657.770      13823.160           32.41875  'Western Europe'   \n",
       "90   17032.755      15166.605           26.95000  'Western Europe'   \n",
       "36   17099.550      14172.735           34.43250  'Western Europe'   \n",
       "7    17168.505      15166.455           28.74500  'Western Europe'   \n",
       "\n",
       "    happyScore      GDP       country.1  \n",
       "49       5.948  1.25114           Italy  \n",
       "44       6.940  1.33596         Ireland  \n",
       "90       7.364  1.33171          Sweden  \n",
       "36       6.867  1.26637  United Kingdom  \n",
       "7        6.937  1.30782         Belgium  "
      ]
     },
     "execution_count": 74,
     "metadata": {},
     "output_type": "execute_result"
    }
   ],
   "source": [
    "second = first[first['avg_income'] > 15000 ]\n",
    "second.iloc[:5]"
   ]
  },
  {
   "cell_type": "code",
   "execution_count": 75,
   "id": "1367ff99",
   "metadata": {},
   "outputs": [
    {
     "name": "stdout",
     "output_type": "stream",
     "text": [
      "19266.680753968256 6442.751416214639\n"
     ]
    }
   ],
   "source": [
    "import numpy as np\n",
    "rich = np.mean(second['avg_income'])\n",
    "all_mean = np.mean(first['avg_income'])\n",
    "print(rich,all_mean)\n"
   ]
  },
  {
   "cell_type": "code",
   "execution_count": 76,
   "id": "4d69a9c7",
   "metadata": {},
   "outputs": [
    {
     "data": {
      "image/png": "[encoded data removed]",
      "text/plain": [
       "<Figure size 432x288 with 1 Axes>"
      ]
     },
     "metadata": {
      "needs_background": "light"
     },
     "output_type": "display_data"
    }
   ],
   "source": [
    "import matplotlib.pyplot as plt\n",
    "plt.scatter(second['avg_income'],second['happyScore'])\n",
    "#plt.scatter(first['avg_income'],first['happyScore'])\n",
    "plt.text(second.iloc[-1]['avg_income'],\n",
    "         second.iloc[-1]['happyScore'],\n",
    "         second.iloc[-1]['country'])\n",
    "plt.text(second.iloc[0]['avg_income'],\n",
    "         second.iloc[0]['happyScore'],\n",
    "         second.iloc[0]['country'])\n",
    "for i,row in second.iterrows():\n",
    "    plt.text(row['avg_income'],\n",
    "            row['happyScore'],\n",
    "            row['country'])"
   ]
  },
  {
   "cell_type": "code",
   "execution_count": 85,
   "id": "6804c0f1",
   "metadata": {},
   "outputs": [
    {
     "data": {
      "text/plain": [
       "26182.275"
      ]
     },
     "execution_count": 85,
     "metadata": {},
     "output_type": "execute_result"
    }
   ],
   "source": [
    "happy = first['happyScore']\n",
    "income = first['avg_income']\n",
    "ineq = first['income_inequality']\n",
    "income.max()"
   ]
  },
  {
   "cell_type": "code",
   "execution_count": 77,
   "id": "088fb230",
   "metadata": {},
   "outputs": [
    {
     "data": {
      "text/plain": [
       "<matplotlib.collections.PathCollection at 0x299bbb0c9a0>"
      ]
     },
     "execution_count": 77,
     "metadata": {},
     "output_type": "execute_result"
    },
    {
     "data": {
      "image/png": "[encoded data removed]",
      "text/plain": [
       "<Figure size 432x288 with 1 Axes>"
      ]
     },
     "metadata": {
      "needs_background": "light"
     },
     "output_type": "display_data"
    }
   ],
   "source": [
    "import matplotlib.pyplot as plt\n",
    "plt.xlabel('income')\n",
    "plt.ylabel('happy Score')\n",
    "plt.scatter(income,happy,s = ineq*5,alpha = 0.57)"
   ]
  },
  {
   "cell_type": "code",
   "execution_count": 103,
   "id": "cb8aaa6d",
   "metadata": {},
   "outputs": [
    {
     "data": {
      "text/plain": [
       "Text(0, 0.5, 'happy Score')"
      ]
     },
     "execution_count": 103,
     "metadata": {},
     "output_type": "execute_result"
    },
    {
     "data": {
      "image/png": "[encoded data removed]",
      "text/plain": [
       "<Figure size 432x288 with 1 Axes>"
      ]
     },
     "metadata": {
      "needs_background": "light"
     },
     "output_type": "display_data"
    }
   ],
   "source": [
    "from sklearn.cluster import KMeans\n",
    "import numpy as np\n",
    "income_happy = np.column_stack((income,happy))\n",
    "result = KMeans(n_clusters = 3).fit(income_happy)\n",
    "cluster = result.cluster_centers_\n",
    "plt.scatter(income,happy)\n",
    "plt.scatter(cluster[:,0],cluster[:,1], s = 900,alpha = 0.75)\n",
    "plt.xlabel('income')\n",
    "plt.ylabel('happy Score')\n",
    "\n"
   ]
  },
  {
   "cell_type": "code",
   "execution_count": null,
   "id": "8227c01f",
   "metadata": {},
   "outputs": [],
   "source": []
  }
 ],
 "metadata": {
  "kernelspec": {
   "display_name": "Python 3 (ipykernel)",
   "language": "python",
   "name": "python3"
  },
  "language_info": {
   "codemirror_mode": {
    "name": "ipython",
    "version": 3
   },
   "file_extension": ".py",
   "mimetype": "text/x-python",
   "name": "python",
   "nbconvert_exporter": "python",
   "pygments_lexer": "ipython3",
   "version": "3.8.8"
  }
 },
 "nbformat": 4,
 "nbformat_minor": 5
}
